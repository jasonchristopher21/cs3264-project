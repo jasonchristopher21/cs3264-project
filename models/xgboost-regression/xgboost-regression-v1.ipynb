{
 "cells": [
  {
   "cell_type": "markdown",
   "metadata": {},
   "source": [
    "# Gradient Boosting Regression Model (Version 1)\n",
    "\n",
    "Regression counterpart of Extreme Gradient Boosting, optimised from distributed gradient boosting libraries, supported by [`xgboost.XGBRegressor`](https://docs.getml.com/1.1.0/api/getml.predictors.XGBoostRegressor.html) function by getml\n",
    "\n",
    "### Summary\n",
    "\n",
    "| Techniques                     | Used / Description           |\n",
    "| ------------------------------ | ---------------------------- |\n",
    "| Handling Unknown Variables     | Drop Rows                    |\n",
    "| Handling Categorical Variables | Drop Columns (Drop Features) |\n",
    "| Handling Class Imbalance       | Not Applied                  |\n",
    "| Handling Outliers              | Not Applied                  |\n",
    "\n",
    "### Results\n",
    "\n",
    "| Metric                 | Value   |\n",
    "| ---------------------- | ------- |\n",
<<<<<<< HEAD
    "| RMSE (Lower is better) | 0.89406 |\n",
    "| R2 (Higher is better)  | 0.38415 |\n"
=======
    "| RMSE (Lower is better) | 0.92064 |\n",
    "| R2 (Higher is better)  | 0.34699 |\n",
    "\n",
    "### NOTE\n",
    "\n",
    "In case there are wacky errors, do use the `xgboost-script.py` file to debug. For some reason the error messages shown in the python file is more comprehensive compared to using Jupyter notebook.\n"
>>>>>>> c6ace4aadab53d33ca0ee97626ac40da34a5d468
   ]
  },
  {
   "cell_type": "markdown",
   "metadata": {},
   "source": [
    "### Preprocessing Stage"
   ]
  },
  {
   "cell_type": "code",
   "execution_count": 88,
   "metadata": {},
   "outputs": [],
   "source": [
    "import numpy as np\n",
    "import pandas as pd\n",
    "import random\n",
    "\n",
    "from sklearn.metrics import classification_report, accuracy_score, confusion_matrix\n",
    "from xgboost import XGBRegressor\n",
    "from sklearn.pipeline import Pipeline\n",
    "from sklearn.metrics import r2_score\n"
   ]
  },
  {
   "cell_type": "code",
<<<<<<< HEAD
   "execution_count": 123,
=======
   "execution_count": 89,
>>>>>>> c6ace4aadab53d33ca0ee97626ac40da34a5d468
   "metadata": {},
   "outputs": [],
   "source": [
    "X_train = pd.read_csv('../../cleaned-data/X_train.csv')\n",
    "y_train = pd.read_csv('../../cleaned-data/y_train.csv')\n",
    "\n",
    "X_test = pd.read_csv('../../cleaned-data/X_test.csv')\n",
    "y_test = pd.read_csv('../../cleaned-data/y_test.csv')"
   ]
  },
  {
   "cell_type": "code",
<<<<<<< HEAD
   "execution_count": 124,
=======
   "execution_count": 90,
>>>>>>> c6ace4aadab53d33ca0ee97626ac40da34a5d468
   "metadata": {},
   "outputs": [
    {
     "data": {
      "text/html": [
       "<div>\n",
       "<style scoped>\n",
       "    .dataframe tbody tr th:only-of-type {\n",
       "        vertical-align: middle;\n",
       "    }\n",
       "\n",
       "    .dataframe tbody tr th {\n",
       "        vertical-align: top;\n",
       "    }\n",
       "\n",
       "    .dataframe thead th {\n",
       "        text-align: right;\n",
       "    }\n",
       "</style>\n",
       "<table border=\"1\" class=\"dataframe\">\n",
       "  <thead>\n",
       "    <tr style=\"text-align: right;\">\n",
       "      <th></th>\n",
       "      <th>latitude</th>\n",
       "      <th>longitude</th>\n",
       "      <th>land_use_label</th>\n",
       "      <th>distance_to_waterbody</th>\n",
       "      <th>distance_to_open_space</th>\n",
       "      <th>subzone</th>\n",
       "      <th>planning_area</th>\n",
       "      <th>region</th>\n",
       "      <th>elevation</th>\n",
       "      <th>temp_2024_04_07_min</th>\n",
       "      <th>...</th>\n",
       "      <th>built-up</th>\n",
       "      <th>bare / sparse vegetation</th>\n",
       "      <th>snow and ice</th>\n",
       "      <th>permanent water bodies</th>\n",
       "      <th>herbaceous wetland</th>\n",
       "      <th>mangroves</th>\n",
       "      <th>moss and lichen</th>\n",
       "      <th>min_ndvi</th>\n",
       "      <th>mean_ndvi</th>\n",
       "      <th>max_ndvi</th>\n",
       "    </tr>\n",
       "  </thead>\n",
       "  <tbody>\n",
       "    <tr>\n",
       "      <th>0</th>\n",
       "      <td>1.327345</td>\n",
       "      <td>103.776261</td>\n",
       "      <td>ROAD</td>\n",
       "      <td>0.005491</td>\n",
       "      <td>0.000305</td>\n",
       "      <td>HOLLAND ROAD</td>\n",
       "      <td>BUKIT TIMAH</td>\n",
       "      <td>CENTRAL REGION</td>\n",
       "      <td>34</td>\n",
       "      <td>28.880736</td>\n",
       "      <td>...</td>\n",
       "      <td>128</td>\n",
       "      <td>1</td>\n",
       "      <td>0</td>\n",
       "      <td>1</td>\n",
       "      <td>0</td>\n",
       "      <td>0</td>\n",
       "      <td>0</td>\n",
       "      <td>0.1176063463</td>\n",
       "      <td>0.2107233339</td>\n",
       "      <td>0.3355351585</td>\n",
       "    </tr>\n",
       "    <tr>\n",
       "      <th>1</th>\n",
       "      <td>1.362310</td>\n",
       "      <td>103.885041</td>\n",
       "      <td>RESIDENTIAL</td>\n",
       "      <td>0.002163</td>\n",
       "      <td>0.002288</td>\n",
       "      <td>KOVAN</td>\n",
       "      <td>HOUGANG</td>\n",
       "      <td>NORTH-EAST REGION</td>\n",
       "      <td>14</td>\n",
       "      <td>33.603571</td>\n",
       "      <td>...</td>\n",
       "      <td>183</td>\n",
       "      <td>1</td>\n",
       "      <td>0</td>\n",
       "      <td>0</td>\n",
       "      <td>0</td>\n",
       "      <td>0</td>\n",
       "      <td>0</td>\n",
       "      <td>0.06873453002</td>\n",
       "      <td>0.1237388913</td>\n",
       "      <td>0.1772913102</td>\n",
       "    </tr>\n",
       "    <tr>\n",
       "      <th>2</th>\n",
       "      <td>1.304792</td>\n",
       "      <td>103.740678</td>\n",
       "      <td>BUSINESS 2</td>\n",
       "      <td>0.001660</td>\n",
       "      <td>0.001437</td>\n",
       "      <td>PENJURU CRESCENT</td>\n",
       "      <td>JURONG EAST</td>\n",
       "      <td>WEST REGION</td>\n",
       "      <td>10</td>\n",
       "      <td>28.880736</td>\n",
       "      <td>...</td>\n",
       "      <td>251</td>\n",
       "      <td>8</td>\n",
       "      <td>0</td>\n",
       "      <td>33</td>\n",
       "      <td>0</td>\n",
       "      <td>0</td>\n",
       "      <td>0</td>\n",
       "      <td>0.03399855502</td>\n",
       "      <td>0.07334574643</td>\n",
       "      <td>0.1149060753</td>\n",
       "    </tr>\n",
       "    <tr>\n",
       "      <th>3</th>\n",
       "      <td>1.432131</td>\n",
       "      <td>103.793028</td>\n",
       "      <td>ROAD</td>\n",
       "      <td>0.002688</td>\n",
       "      <td>0.002472</td>\n",
       "      <td>WOODLANDS SOUTH</td>\n",
       "      <td>WOODLANDS</td>\n",
       "      <td>NORTH REGION</td>\n",
       "      <td>32</td>\n",
       "      <td>30.168782</td>\n",
       "      <td>...</td>\n",
       "      <td>-</td>\n",
       "      <td>-</td>\n",
       "      <td>-</td>\n",
       "      <td>-</td>\n",
       "      <td>-</td>\n",
       "      <td>-</td>\n",
       "      <td>-</td>\n",
       "      <td>-</td>\n",
       "      <td>-</td>\n",
       "      <td>-</td>\n",
       "    </tr>\n",
       "    <tr>\n",
       "      <th>4</th>\n",
       "      <td>1.303530</td>\n",
       "      <td>103.820861</td>\n",
       "      <td>CIVIC &amp; COMMUNITY INSTITUTION</td>\n",
       "      <td>0.011124</td>\n",
       "      <td>0.004127</td>\n",
       "      <td>RIDOUT</td>\n",
       "      <td>TANGLIN</td>\n",
       "      <td>CENTRAL REGION</td>\n",
       "      <td>17</td>\n",
       "      <td>30.168782</td>\n",
       "      <td>...</td>\n",
       "      <td>63</td>\n",
       "      <td>1</td>\n",
       "      <td>0</td>\n",
       "      <td>0</td>\n",
       "      <td>0</td>\n",
       "      <td>0</td>\n",
       "      <td>0</td>\n",
       "      <td>0.09017470784</td>\n",
       "      <td>0.2076336658</td>\n",
       "      <td>0.3255961435</td>\n",
       "    </tr>\n",
       "  </tbody>\n",
       "</table>\n",
       "<p>5 rows × 59 columns</p>\n",
       "</div>"
      ],
      "text/plain": [
       "   latitude   longitude                 land_use_label  distance_to_waterbody  \\\n",
       "0  1.327345  103.776261                           ROAD               0.005491   \n",
       "1  1.362310  103.885041                    RESIDENTIAL               0.002163   \n",
       "2  1.304792  103.740678                     BUSINESS 2               0.001660   \n",
       "3  1.432131  103.793028                           ROAD               0.002688   \n",
       "4  1.303530  103.820861  CIVIC & COMMUNITY INSTITUTION               0.011124   \n",
       "\n",
       "   distance_to_open_space           subzone planning_area             region  \\\n",
       "0                0.000305      HOLLAND ROAD   BUKIT TIMAH     CENTRAL REGION   \n",
       "1                0.002288             KOVAN       HOUGANG  NORTH-EAST REGION   \n",
       "2                0.001437  PENJURU CRESCENT   JURONG EAST        WEST REGION   \n",
       "3                0.002472   WOODLANDS SOUTH     WOODLANDS       NORTH REGION   \n",
       "4                0.004127            RIDOUT       TANGLIN     CENTRAL REGION   \n",
       "\n",
       "   elevation  temp_2024_04_07_min  ...  built-up  bare / sparse vegetation  \\\n",
       "0         34            28.880736  ...       128                         1   \n",
       "1         14            33.603571  ...       183                         1   \n",
       "2         10            28.880736  ...       251                         8   \n",
       "3         32            30.168782  ...         -                         -   \n",
       "4         17            30.168782  ...        63                         1   \n",
       "\n",
       "   snow and ice  permanent water bodies  herbaceous wetland  mangroves  \\\n",
       "0             0                       1                   0          0   \n",
       "1             0                       0                   0          0   \n",
       "2             0                      33                   0          0   \n",
       "3             -                       -                   -          -   \n",
       "4             0                       0                   0          0   \n",
       "\n",
       "   moss and lichen       min_ndvi      mean_ndvi      max_ndvi  \n",
       "0                0   0.1176063463   0.2107233339  0.3355351585  \n",
       "1                0  0.06873453002   0.1237388913  0.1772913102  \n",
       "2                0  0.03399855502  0.07334574643  0.1149060753  \n",
       "3                -              -              -             -  \n",
       "4                0  0.09017470784   0.2076336658  0.3255961435  \n",
       "\n",
       "[5 rows x 59 columns]"
      ]
     },
<<<<<<< HEAD
     "execution_count": 124,
=======
     "execution_count": 90,
>>>>>>> c6ace4aadab53d33ca0ee97626ac40da34a5d468
     "metadata": {},
     "output_type": "execute_result"
    }
   ],
   "source": [
    "X_train.head()"
   ]
  },
  {
   "cell_type": "code",
<<<<<<< HEAD
   "execution_count": 125,
=======
   "execution_count": 91,
>>>>>>> c6ace4aadab53d33ca0ee97626ac40da34a5d468
   "metadata": {},
   "outputs": [],
   "source": [
    "# Combine X and y to make sure that the oversampling is done correctly\n",
    "X_train = pd.concat([X_train, y_train], axis=1)\n",
    "X_test = pd.concat([X_test, y_test], axis=1)"
   ]
  },
  {
   "cell_type": "markdown",
   "metadata": {},
   "source": [
    "- Drop subzone and planning area columns\n",
    "- Replace land use label by one hot encoding\n",
    "- Drop temperature data, since they are not independent variables"
   ]
  },
  {
   "cell_type": "code",
<<<<<<< HEAD
   "execution_count": 126,
=======
   "execution_count": 92,
>>>>>>> c6ace4aadab53d33ca0ee97626ac40da34a5d468
   "metadata": {},
   "outputs": [
    {
     "data": {
      "text/plain": [
       "Index(['latitude', 'longitude', 'land_use_label', 'distance_to_waterbody',\n",
       "       'distance_to_open_space', 'subzone', 'planning_area', 'region',\n",
       "       'elevation', 'temp_2024_04_07_min', 'temp_2024_04_07_max',\n",
       "       'temp_2024_04_07_median', 'temp_2024_04_08_min', 'temp_2024_04_08_max',\n",
       "       'temp_2024_04_08_median', 'temp_2024_04_09_min', 'temp_2024_04_09_max',\n",
       "       'temp_2024_04_09_median', 'temp_2024_04_10_min', 'temp_2024_04_10_max',\n",
       "       'temp_2024_04_10_median', 'Total_x', 'HDB Total',\n",
       "       'Condominiums & Other Apartments', 'Landed Properties_x',\n",
       "       'Other Dwellings_x', 'Floor_below_60', 'Floor_60-80', 'Floor_80-100',\n",
       "       'Floor_100-120', 'Floor_above_120', 'Below $1,000', '$1,000 - $1,999',\n",
       "       '$2,000 - $2,999', '$3,000 - $3,999', '$4,000 - $4,999',\n",
       "       '$5,000 - $5,999', '$6,000 - $6,999', '$7,000 - $7,999',\n",
       "       '$8,000 - $8,999', '$9,000 - $9,999', '$10,000 - 10,999',\n",
       "       '$11,000 - 11,999', '$12,000 - $14,999', '$15,000 & Over', 'tree cover',\n",
       "       'shrubland', 'grassland', 'cropland', 'built-up',\n",
       "       'bare / sparse vegetation', 'snow and ice', 'permanent water bodies',\n",
       "       'herbaceous wetland', 'mangroves', 'moss and lichen', 'min_ndvi',\n",
       "       'mean_ndvi', 'max_ndvi', 'avg_temp'],\n",
       "      dtype='object')"
      ]
     },
<<<<<<< HEAD
     "execution_count": 126,
=======
     "execution_count": 92,
>>>>>>> c6ace4aadab53d33ca0ee97626ac40da34a5d468
     "metadata": {},
     "output_type": "execute_result"
    }
   ],
   "source": [
    "X_train.columns"
   ]
  },
  {
   "cell_type": "code",
<<<<<<< HEAD
   "execution_count": 127,
=======
   "execution_count": 93,
>>>>>>> c6ace4aadab53d33ca0ee97626ac40da34a5d468
   "metadata": {},
   "outputs": [],
   "source": [
    "columns_to_drop = ['land_use_label', 'subzone', 'planning_area', 'region',\n",
    "       'temp_2024_04_07_min', 'temp_2024_04_07_max',\n",
    "       'temp_2024_04_07_median', 'temp_2024_04_08_min', 'temp_2024_04_08_max',\n",
    "       'temp_2024_04_08_median', 'temp_2024_04_09_min', 'temp_2024_04_09_max',\n",
    "       'temp_2024_04_09_median', 'temp_2024_04_10_min', 'temp_2024_04_10_max',\n",
    "       'temp_2024_04_10_median']\n",
    "\n",
    "X_train = X_train.drop(columns=columns_to_drop)\n",
    "X_test = X_test.drop(columns=columns_to_drop)"
   ]
  },
  {
   "cell_type": "code",
<<<<<<< HEAD
   "execution_count": 128,
=======
   "execution_count": 94,
>>>>>>> c6ace4aadab53d33ca0ee97626ac40da34a5d468
   "metadata": {},
   "outputs": [],
   "source": [
    "# Remove rows where min_ndvi values is -\n",
    "X_train = X_train[X_train['min_ndvi'] != '-']\n",
    "X_test = X_test[X_test['min_ndvi'] != '-']"
   ]
  },
  {
   "cell_type": "code",
<<<<<<< HEAD
   "execution_count": 129,
=======
   "execution_count": 95,
>>>>>>> c6ace4aadab53d33ca0ee97626ac40da34a5d468
   "metadata": {},
   "outputs": [],
   "source": [
    "# Split X and y\n",
    "y_train = X_train['avg_temp']\n",
    "X_train = X_train.drop(columns=['avg_temp'])\n",
    "\n",
    "y_test = X_test['avg_temp']\n",
    "X_test = X_test.drop(columns=['avg_temp'])"
   ]
  },
  {
   "cell_type": "markdown",
   "metadata": {},
   "source": [
    "## Model Training"
   ]
  },
  {
   "cell_type": "code",
<<<<<<< HEAD
   "execution_count": 178,
=======
   "execution_count": 96,
>>>>>>> c6ace4aadab53d33ca0ee97626ac40da34a5d468
   "metadata": {},
   "outputs": [
    {
     "data": {
      "text/plain": [
       "array(['1', '0', '33', '8', '7', '2', '4', '59', '194', '5', '331', '95',\n",
       "       '13', '56', '3', '19', '25', '20', '52', '11', '30', '6', '22',\n",
       "       '9', '36', '84', '51', '45', '32', '15', '14'], dtype=object)"
      ]
     },
<<<<<<< HEAD
     "execution_count": 178,
=======
     "execution_count": 96,
>>>>>>> c6ace4aadab53d33ca0ee97626ac40da34a5d468
     "metadata": {},
     "output_type": "execute_result"
    }
   ],
   "source": [
    "X_train['permanent water bodies'].unique()"
   ]
  },
  {
   "cell_type": "code",
<<<<<<< HEAD
   "execution_count": 202,
=======
   "execution_count": 97,
>>>>>>> c6ace4aadab53d33ca0ee97626ac40da34a5d468
   "metadata": {},
   "outputs": [],
   "source": [
    "def set_data_types(X):\n",
    "    X_train = X.copy()\n",
    "    X_train['tree cover'] = X_train['tree cover'].astype('int')\n",
<<<<<<< HEAD
    "    X_train['grassland'] = X_train['grassland'].astype('category')\n",
    "    X_train['shrubland'] = X_train['shrubland'].astype('category')\n",
    "    X_train['cropland'] = X_train['cropland'].astype('category')\n",
    "    X_train['built-up'] = X_train['built-up'].astype('int')\n",
    "    X_train['permanent water bodies'] = X_train['permanent water bodies'].astype('int')\n",
    "    X_train['herbaceous wetland'] = X_train['herbaceous wetland'].astype('category')\n",
=======
    "    X_train['grassland'] = X_train['grassland'].astype('int')\n",
    "    X_train['shrubland'] = X_train['shrubland'].astype('int')\n",
    "    X_train['cropland'] = X_train['cropland'].astype('int')\n",
    "    X_train['built-up'] = X_train['built-up'].astype('int')\n",
    "    X_train['permanent water bodies'] = X_train['permanent water bodies'].astype('int')\n",
    "    X_train['herbaceous wetland'] = X_train['herbaceous wetland'].astype('int')\n",
    "    X_train['herbaceous wetland'] = X_train['herbaceous wetland'].astype('int')\n",
>>>>>>> c6ace4aadab53d33ca0ee97626ac40da34a5d468
    "    X_train['bare / sparse vegetation'] = X_train['bare / sparse vegetation'].astype('int')\n",
    "    X_train['min_ndvi'] = X_train['min_ndvi'].astype('float')\n",
    "    X_train['mean_ndvi'] = X_train['mean_ndvi'].astype('float')\n",
    "    X_train['max_ndvi'] = X_train['max_ndvi'].astype('float')\n",
    "    X_train.drop(['snow and ice', 'mangroves', 'moss and lichen'], axis=1, inplace=True)\n",
    "    return X_train"
   ]
  },
  {
   "cell_type": "code",
<<<<<<< HEAD
   "execution_count": 203,
=======
   "execution_count": 98,
>>>>>>> c6ace4aadab53d33ca0ee97626ac40da34a5d468
   "metadata": {},
   "outputs": [],
   "source": [
    "new_X_train = set_data_types(X_train)\n",
    "new_X_test = set_data_types(X_test)"
   ]
  },
  {
   "cell_type": "code",
<<<<<<< HEAD
   "execution_count": 204,
=======
   "execution_count": 101,
>>>>>>> c6ace4aadab53d33ca0ee97626ac40da34a5d468
   "metadata": {},
   "outputs": [
    {
     "data": {
      "text/html": [
<<<<<<< HEAD
       "<style>#sk-container-id-22 {color: black;background-color: white;}#sk-container-id-22 pre{padding: 0;}#sk-container-id-22 div.sk-toggleable {background-color: white;}#sk-container-id-22 label.sk-toggleable__label {cursor: pointer;display: block;width: 100%;margin-bottom: 0;padding: 0.3em;box-sizing: border-box;text-align: center;}#sk-container-id-22 label.sk-toggleable__label-arrow:before {content: \"▸\";float: left;margin-right: 0.25em;color: #696969;}#sk-container-id-22 label.sk-toggleable__label-arrow:hover:before {color: black;}#sk-container-id-22 div.sk-estimator:hover label.sk-toggleable__label-arrow:before {color: black;}#sk-container-id-22 div.sk-toggleable__content {max-height: 0;max-width: 0;overflow: hidden;text-align: left;background-color: #f0f8ff;}#sk-container-id-22 div.sk-toggleable__content pre {margin: 0.2em;color: black;border-radius: 0.25em;background-color: #f0f8ff;}#sk-container-id-22 input.sk-toggleable__control:checked~div.sk-toggleable__content {max-height: 200px;max-width: 100%;overflow: auto;}#sk-container-id-22 input.sk-toggleable__control:checked~label.sk-toggleable__label-arrow:before {content: \"▾\";}#sk-container-id-22 div.sk-estimator input.sk-toggleable__control:checked~label.sk-toggleable__label {background-color: #d4ebff;}#sk-container-id-22 div.sk-label input.sk-toggleable__control:checked~label.sk-toggleable__label {background-color: #d4ebff;}#sk-container-id-22 input.sk-hidden--visually {border: 0;clip: rect(1px 1px 1px 1px);clip: rect(1px, 1px, 1px, 1px);height: 1px;margin: -1px;overflow: hidden;padding: 0;position: absolute;width: 1px;}#sk-container-id-22 div.sk-estimator {font-family: monospace;background-color: #f0f8ff;border: 1px dotted black;border-radius: 0.25em;box-sizing: border-box;margin-bottom: 0.5em;}#sk-container-id-22 div.sk-estimator:hover {background-color: #d4ebff;}#sk-container-id-22 div.sk-parallel-item::after {content: \"\";width: 100%;border-bottom: 1px solid gray;flex-grow: 1;}#sk-container-id-22 div.sk-label:hover label.sk-toggleable__label {background-color: #d4ebff;}#sk-container-id-22 div.sk-serial::before {content: \"\";position: absolute;border-left: 1px solid gray;box-sizing: border-box;top: 0;bottom: 0;left: 50%;z-index: 0;}#sk-container-id-22 div.sk-serial {display: flex;flex-direction: column;align-items: center;background-color: white;padding-right: 0.2em;padding-left: 0.2em;position: relative;}#sk-container-id-22 div.sk-item {position: relative;z-index: 1;}#sk-container-id-22 div.sk-parallel {display: flex;align-items: stretch;justify-content: center;background-color: white;position: relative;}#sk-container-id-22 div.sk-item::before, #sk-container-id-22 div.sk-parallel-item::before {content: \"\";position: absolute;border-left: 1px solid gray;box-sizing: border-box;top: 0;bottom: 0;left: 50%;z-index: -1;}#sk-container-id-22 div.sk-parallel-item {display: flex;flex-direction: column;z-index: 1;position: relative;background-color: white;}#sk-container-id-22 div.sk-parallel-item:first-child::after {align-self: flex-end;width: 50%;}#sk-container-id-22 div.sk-parallel-item:last-child::after {align-self: flex-start;width: 50%;}#sk-container-id-22 div.sk-parallel-item:only-child::after {width: 0;}#sk-container-id-22 div.sk-dashed-wrapped {border: 1px dashed gray;margin: 0 0.4em 0.5em 0.4em;box-sizing: border-box;padding-bottom: 0.4em;background-color: white;}#sk-container-id-22 div.sk-label label {font-family: monospace;font-weight: bold;display: inline-block;line-height: 1.2em;}#sk-container-id-22 div.sk-label-container {text-align: center;}#sk-container-id-22 div.sk-container {/* jupyter's `normalize.less` sets `[hidden] { display: none; }` but bootstrap.min.css set `[hidden] { display: none !important; }` so we also need the `!important` here to be able to override the default hidden behavior on the sphinx rendered scikit-learn.org. See: https://github.com/scikit-learn/scikit-learn/issues/21755 */display: inline-block !important;position: relative;}#sk-container-id-22 div.sk-text-repr-fallback {display: none;}</style><div id=\"sk-container-id-22\" class=\"sk-top-container\"><div class=\"sk-text-repr-fallback\"><pre>XGBRegressor(base_score=None, booster=None, callbacks=None,\n",
       "             colsample_bylevel=None, colsample_bynode=None,\n",
       "             colsample_bytree=None, device=None, early_stopping_rounds=None,\n",
       "             enable_categorical=True, eval_metric=None, feature_types=None,\n",
       "             gamma=None, grow_policy=None, importance_type=None,\n",
=======
       "<style>#sk-container-id-2 {color: black;background-color: white;}#sk-container-id-2 pre{padding: 0;}#sk-container-id-2 div.sk-toggleable {background-color: white;}#sk-container-id-2 label.sk-toggleable__label {cursor: pointer;display: block;width: 100%;margin-bottom: 0;padding: 0.3em;box-sizing: border-box;text-align: center;}#sk-container-id-2 label.sk-toggleable__label-arrow:before {content: \"▸\";float: left;margin-right: 0.25em;color: #696969;}#sk-container-id-2 label.sk-toggleable__label-arrow:hover:before {color: black;}#sk-container-id-2 div.sk-estimator:hover label.sk-toggleable__label-arrow:before {color: black;}#sk-container-id-2 div.sk-toggleable__content {max-height: 0;max-width: 0;overflow: hidden;text-align: left;background-color: #f0f8ff;}#sk-container-id-2 div.sk-toggleable__content pre {margin: 0.2em;color: black;border-radius: 0.25em;background-color: #f0f8ff;}#sk-container-id-2 input.sk-toggleable__control:checked~div.sk-toggleable__content {max-height: 200px;max-width: 100%;overflow: auto;}#sk-container-id-2 input.sk-toggleable__control:checked~label.sk-toggleable__label-arrow:before {content: \"▾\";}#sk-container-id-2 div.sk-estimator input.sk-toggleable__control:checked~label.sk-toggleable__label {background-color: #d4ebff;}#sk-container-id-2 div.sk-label input.sk-toggleable__control:checked~label.sk-toggleable__label {background-color: #d4ebff;}#sk-container-id-2 input.sk-hidden--visually {border: 0;clip: rect(1px 1px 1px 1px);clip: rect(1px, 1px, 1px, 1px);height: 1px;margin: -1px;overflow: hidden;padding: 0;position: absolute;width: 1px;}#sk-container-id-2 div.sk-estimator {font-family: monospace;background-color: #f0f8ff;border: 1px dotted black;border-radius: 0.25em;box-sizing: border-box;margin-bottom: 0.5em;}#sk-container-id-2 div.sk-estimator:hover {background-color: #d4ebff;}#sk-container-id-2 div.sk-parallel-item::after {content: \"\";width: 100%;border-bottom: 1px solid gray;flex-grow: 1;}#sk-container-id-2 div.sk-label:hover label.sk-toggleable__label {background-color: #d4ebff;}#sk-container-id-2 div.sk-serial::before {content: \"\";position: absolute;border-left: 1px solid gray;box-sizing: border-box;top: 0;bottom: 0;left: 50%;z-index: 0;}#sk-container-id-2 div.sk-serial {display: flex;flex-direction: column;align-items: center;background-color: white;padding-right: 0.2em;padding-left: 0.2em;position: relative;}#sk-container-id-2 div.sk-item {position: relative;z-index: 1;}#sk-container-id-2 div.sk-parallel {display: flex;align-items: stretch;justify-content: center;background-color: white;position: relative;}#sk-container-id-2 div.sk-item::before, #sk-container-id-2 div.sk-parallel-item::before {content: \"\";position: absolute;border-left: 1px solid gray;box-sizing: border-box;top: 0;bottom: 0;left: 50%;z-index: -1;}#sk-container-id-2 div.sk-parallel-item {display: flex;flex-direction: column;z-index: 1;position: relative;background-color: white;}#sk-container-id-2 div.sk-parallel-item:first-child::after {align-self: flex-end;width: 50%;}#sk-container-id-2 div.sk-parallel-item:last-child::after {align-self: flex-start;width: 50%;}#sk-container-id-2 div.sk-parallel-item:only-child::after {width: 0;}#sk-container-id-2 div.sk-dashed-wrapped {border: 1px dashed gray;margin: 0 0.4em 0.5em 0.4em;box-sizing: border-box;padding-bottom: 0.4em;background-color: white;}#sk-container-id-2 div.sk-label label {font-family: monospace;font-weight: bold;display: inline-block;line-height: 1.2em;}#sk-container-id-2 div.sk-label-container {text-align: center;}#sk-container-id-2 div.sk-container {/* jupyter's `normalize.less` sets `[hidden] { display: none; }` but bootstrap.min.css set `[hidden] { display: none !important; }` so we also need the `!important` here to be able to override the default hidden behavior on the sphinx rendered scikit-learn.org. See: https://github.com/scikit-learn/scikit-learn/issues/21755 */display: inline-block !important;position: relative;}#sk-container-id-2 div.sk-text-repr-fallback {display: none;}</style><div id=\"sk-container-id-2\" class=\"sk-top-container\"><div class=\"sk-text-repr-fallback\"><pre>XGBRegressor(base_score=None, booster=None, callbacks=None,\n",
       "             colsample_bylevel=None, colsample_bynode=None,\n",
       "             colsample_bytree=None, early_stopping_rounds=None,\n",
       "             enable_categorical=False, eval_metric=None, feature_types=None,\n",
       "             gamma=None, gpu_id=None, grow_policy=None, importance_type=None,\n",
>>>>>>> c6ace4aadab53d33ca0ee97626ac40da34a5d468
       "             interaction_constraints=None, learning_rate=None, max_bin=None,\n",
       "             max_cat_threshold=None, max_cat_to_onehot=None,\n",
       "             max_delta_step=None, max_depth=None, max_leaves=None,\n",
       "             min_child_weight=None, missing=nan, monotone_constraints=None,\n",
<<<<<<< HEAD
       "             multi_strategy=None, n_estimators=None, n_jobs=None,\n",
       "             num_parallel_tree=None, random_state=None, ...)</pre><b>In a Jupyter environment, please rerun this cell to show the HTML representation or trust the notebook. <br />On GitHub, the HTML representation is unable to render, please try loading this page with nbviewer.org.</b></div><div class=\"sk-container\" hidden><div class=\"sk-item\"><div class=\"sk-estimator sk-toggleable\"><input class=\"sk-toggleable__control sk-hidden--visually\" id=\"sk-estimator-id-22\" type=\"checkbox\" checked><label for=\"sk-estimator-id-22\" class=\"sk-toggleable__label sk-toggleable__label-arrow\">XGBRegressor</label><div class=\"sk-toggleable__content\"><pre>XGBRegressor(base_score=None, booster=None, callbacks=None,\n",
       "             colsample_bylevel=None, colsample_bynode=None,\n",
       "             colsample_bytree=None, device=None, early_stopping_rounds=None,\n",
       "             enable_categorical=True, eval_metric=None, feature_types=None,\n",
       "             gamma=None, grow_policy=None, importance_type=None,\n",
=======
       "             n_estimators=100, n_jobs=None, num_parallel_tree=None,\n",
       "             predictor=None, random_state=None, ...)</pre><b>In a Jupyter environment, please rerun this cell to show the HTML representation or trust the notebook. <br />On GitHub, the HTML representation is unable to render, please try loading this page with nbviewer.org.</b></div><div class=\"sk-container\" hidden><div class=\"sk-item\"><div class=\"sk-estimator sk-toggleable\"><input class=\"sk-toggleable__control sk-hidden--visually\" id=\"sk-estimator-id-2\" type=\"checkbox\" checked><label for=\"sk-estimator-id-2\" class=\"sk-toggleable__label sk-toggleable__label-arrow\">XGBRegressor</label><div class=\"sk-toggleable__content\"><pre>XGBRegressor(base_score=None, booster=None, callbacks=None,\n",
       "             colsample_bylevel=None, colsample_bynode=None,\n",
       "             colsample_bytree=None, early_stopping_rounds=None,\n",
       "             enable_categorical=False, eval_metric=None, feature_types=None,\n",
       "             gamma=None, gpu_id=None, grow_policy=None, importance_type=None,\n",
>>>>>>> c6ace4aadab53d33ca0ee97626ac40da34a5d468
       "             interaction_constraints=None, learning_rate=None, max_bin=None,\n",
       "             max_cat_threshold=None, max_cat_to_onehot=None,\n",
       "             max_delta_step=None, max_depth=None, max_leaves=None,\n",
       "             min_child_weight=None, missing=nan, monotone_constraints=None,\n",
<<<<<<< HEAD
       "             multi_strategy=None, n_estimators=None, n_jobs=None,\n",
       "             num_parallel_tree=None, random_state=None, ...)</pre></div></div></div></div></div>"
=======
       "             n_estimators=100, n_jobs=None, num_parallel_tree=None,\n",
       "             predictor=None, random_state=None, ...)</pre></div></div></div></div></div>"
>>>>>>> c6ace4aadab53d33ca0ee97626ac40da34a5d468
      ],
      "text/plain": [
       "XGBRegressor(base_score=None, booster=None, callbacks=None,\n",
       "             colsample_bylevel=None, colsample_bynode=None,\n",
<<<<<<< HEAD
       "             colsample_bytree=None, device=None, early_stopping_rounds=None,\n",
       "             enable_categorical=True, eval_metric=None, feature_types=None,\n",
       "             gamma=None, grow_policy=None, importance_type=None,\n",
=======
       "             colsample_bytree=None, early_stopping_rounds=None,\n",
       "             enable_categorical=False, eval_metric=None, feature_types=None,\n",
       "             gamma=None, gpu_id=None, grow_policy=None, importance_type=None,\n",
>>>>>>> c6ace4aadab53d33ca0ee97626ac40da34a5d468
       "             interaction_constraints=None, learning_rate=None, max_bin=None,\n",
       "             max_cat_threshold=None, max_cat_to_onehot=None,\n",
       "             max_delta_step=None, max_depth=None, max_leaves=None,\n",
       "             min_child_weight=None, missing=nan, monotone_constraints=None,\n",
<<<<<<< HEAD
       "             multi_strategy=None, n_estimators=None, n_jobs=None,\n",
       "             num_parallel_tree=None, random_state=None, ...)"
      ]
     },
     "execution_count": 204,
=======
       "             n_estimators=100, n_jobs=None, num_parallel_tree=None,\n",
       "             predictor=None, random_state=None, ...)"
      ]
     },
     "execution_count": 101,
>>>>>>> c6ace4aadab53d33ca0ee97626ac40da34a5d468
     "metadata": {},
     "output_type": "execute_result"
    }
   ],
   "source": [
    "regressor = XGBRegressor(enable_categorical=True)\n",
    "regressor.fit(new_X_train, y_train)"
   ]
  },
  {
   "cell_type": "code",
<<<<<<< HEAD
   "execution_count": 205,
=======
   "execution_count": 102,
>>>>>>> c6ace4aadab53d33ca0ee97626ac40da34a5d468
   "metadata": {},
   "outputs": [
    {
     "name": "stdout",
     "output_type": "stream",
     "text": [
<<<<<<< HEAD
      "RMSE: 0.8940604989668296\n",
      "R2: 0.3841515055738929\n"
=======
      "RMSE: 0.9206373408992247\n",
      "R2: 0.3469938962044975\n"
>>>>>>> c6ace4aadab53d33ca0ee97626ac40da34a5d468
     ]
    }
   ],
   "source": [
    "# Predict and evaluate RMSE and R2 on test set\n",
    "y_pred = regressor.predict(new_X_test)\n",
    "\n",
    "# Calculate the RMSE\n",
    "rmse = np.sqrt(np.mean((y_test - y_pred)**2))\n",
    "print(f\"RMSE: {rmse}\")\n",
    "\n",
    "# Calculate the R2\n",
    "r2 = r2_score(y_test, y_pred)\n",
    "print(f\"R2: {r2}\")"
   ]
  },
  {
   "cell_type": "code",
   "execution_count": null,
   "metadata": {},
   "outputs": [],
   "source": []
  }
 ],
 "metadata": {
  "kernelspec": {
   "display_name": "Python 3",
   "language": "python",
   "name": "python3"
  },
  "language_info": {
   "codemirror_mode": {
    "name": "ipython",
    "version": 3
   },
   "file_extension": ".py",
   "mimetype": "text/x-python",
   "name": "python",
   "nbconvert_exporter": "python",
   "pygments_lexer": "ipython3",
   "version": "3.11.9"
  }
 },
 "nbformat": 4,
 "nbformat_minor": 2
}
