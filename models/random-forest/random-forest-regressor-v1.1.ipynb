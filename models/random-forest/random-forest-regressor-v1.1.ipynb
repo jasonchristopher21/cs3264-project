{
 "cells": [
  {
   "cell_type": "markdown",
   "metadata": {},
   "source": [
    "# Random Forest Regression Model (Version 1.1)\n",
    "\n",
    "Regression counterpart of Random Forest, supported by [`sklearn.ensemble.RandomForestRegressor`](https://scikit-learn.org/stable/modules/generated/sklearn.ensemble.RandomForestRegressor.html) function of ScikitLearn\n",
    "\n",
    "### Summary\n",
    "\n",
    "| Techniques                     | Used / Description           |\n",
    "| ------------------------------ | ---------------------------- |\n",
    "| Handling Unknown Variables     | Drop Rows                    |\n",
    "| Handling Categorical Variables | Drop Columns (Drop Features) |\n",
    "| Handling Class Imbalance       | Not Applied                  |\n",
    "| Handling Outliers              | Not Applied                  |\n",
    "\n",
    "### Results\n",
    "\n",
    "| Metric                 | Value   |\n",
    "| ---------------------- | ------- |\n",
    "| RMSE (Lower is better) | 0.83591 |\n",
    "| R2 (Higher is better)  | 0.46166 |\n"
   ]
  },
  {
   "cell_type": "markdown",
   "metadata": {},
   "source": [
    "### Preprocessing Stage"
   ]
  },
  {
   "cell_type": "code",
   "execution_count": 17,
   "metadata": {},
   "outputs": [],
   "source": [
    "import numpy as np\n",
    "import pandas as pd\n",
    "import random\n",
    "\n",
    "from sklearn.metrics import classification_report, accuracy_score, confusion_matrix\n",
    "from sklearn.ensemble import RandomForestRegressor\n",
    "from sklearn.pipeline import Pipeline\n",
    "from sklearn.metrics import r2_score\n"
   ]
  },
  {
   "cell_type": "code",
   "execution_count": 18,
   "metadata": {},
   "outputs": [],
   "source": [
    "X_train = pd.read_csv('../../cleaned-data/X_train.csv')\n",
    "y_train = pd.read_csv('../../cleaned-data/y_train.csv')\n",
    "\n",
    "X_test = pd.read_csv('../../cleaned-data/X_test.csv')\n",
    "y_test = pd.read_csv('../../cleaned-data/y_test.csv')"
   ]
  },
  {
   "cell_type": "code",
   "execution_count": 19,
   "metadata": {},
   "outputs": [
    {
     "data": {
      "text/html": [
       "<div>\n",
       "<style scoped>\n",
       "    .dataframe tbody tr th:only-of-type {\n",
       "        vertical-align: middle;\n",
       "    }\n",
       "\n",
       "    .dataframe tbody tr th {\n",
       "        vertical-align: top;\n",
       "    }\n",
       "\n",
       "    .dataframe thead th {\n",
       "        text-align: right;\n",
       "    }\n",
       "</style>\n",
       "<table border=\"1\" class=\"dataframe\">\n",
       "  <thead>\n",
       "    <tr style=\"text-align: right;\">\n",
       "      <th></th>\n",
       "      <th>latitude</th>\n",
       "      <th>longitude</th>\n",
       "      <th>land_use_label</th>\n",
       "      <th>distance_to_waterbody</th>\n",
       "      <th>distance_to_open_space</th>\n",
       "      <th>subzone</th>\n",
       "      <th>planning_area</th>\n",
       "      <th>region</th>\n",
       "      <th>elevation</th>\n",
       "      <th>temp_2024_04_07_min</th>\n",
       "      <th>...</th>\n",
       "      <th>built-up</th>\n",
       "      <th>bare / sparse vegetation</th>\n",
       "      <th>snow and ice</th>\n",
       "      <th>permanent water bodies</th>\n",
       "      <th>herbaceous wetland</th>\n",
       "      <th>mangroves</th>\n",
       "      <th>moss and lichen</th>\n",
       "      <th>min_ndvi</th>\n",
       "      <th>mean_ndvi</th>\n",
       "      <th>max_ndvi</th>\n",
       "    </tr>\n",
       "  </thead>\n",
       "  <tbody>\n",
       "    <tr>\n",
       "      <th>0</th>\n",
       "      <td>1.327345</td>\n",
       "      <td>103.776261</td>\n",
       "      <td>ROAD</td>\n",
       "      <td>0.005491</td>\n",
       "      <td>0.000305</td>\n",
       "      <td>HOLLAND ROAD</td>\n",
       "      <td>BUKIT TIMAH</td>\n",
       "      <td>CENTRAL REGION</td>\n",
       "      <td>34</td>\n",
       "      <td>28.880736</td>\n",
       "      <td>...</td>\n",
       "      <td>128</td>\n",
       "      <td>1</td>\n",
       "      <td>0</td>\n",
       "      <td>1</td>\n",
       "      <td>0</td>\n",
       "      <td>0</td>\n",
       "      <td>0</td>\n",
       "      <td>0.1176063463</td>\n",
       "      <td>0.2107233339</td>\n",
       "      <td>0.3355351585</td>\n",
       "    </tr>\n",
       "    <tr>\n",
       "      <th>1</th>\n",
       "      <td>1.362310</td>\n",
       "      <td>103.885041</td>\n",
       "      <td>RESIDENTIAL</td>\n",
       "      <td>0.002163</td>\n",
       "      <td>0.002288</td>\n",
       "      <td>KOVAN</td>\n",
       "      <td>HOUGANG</td>\n",
       "      <td>NORTH-EAST REGION</td>\n",
       "      <td>14</td>\n",
       "      <td>33.603571</td>\n",
       "      <td>...</td>\n",
       "      <td>183</td>\n",
       "      <td>1</td>\n",
       "      <td>0</td>\n",
       "      <td>0</td>\n",
       "      <td>0</td>\n",
       "      <td>0</td>\n",
       "      <td>0</td>\n",
       "      <td>0.06873453002</td>\n",
       "      <td>0.1237388913</td>\n",
       "      <td>0.1772913102</td>\n",
       "    </tr>\n",
       "    <tr>\n",
       "      <th>2</th>\n",
       "      <td>1.304792</td>\n",
       "      <td>103.740678</td>\n",
       "      <td>BUSINESS 2</td>\n",
       "      <td>0.001660</td>\n",
       "      <td>0.001437</td>\n",
       "      <td>PENJURU CRESCENT</td>\n",
       "      <td>JURONG EAST</td>\n",
       "      <td>WEST REGION</td>\n",
       "      <td>10</td>\n",
       "      <td>28.880736</td>\n",
       "      <td>...</td>\n",
       "      <td>251</td>\n",
       "      <td>8</td>\n",
       "      <td>0</td>\n",
       "      <td>33</td>\n",
       "      <td>0</td>\n",
       "      <td>0</td>\n",
       "      <td>0</td>\n",
       "      <td>0.03399855502</td>\n",
       "      <td>0.07334574643</td>\n",
       "      <td>0.1149060753</td>\n",
       "    </tr>\n",
       "    <tr>\n",
       "      <th>3</th>\n",
       "      <td>1.432131</td>\n",
       "      <td>103.793028</td>\n",
       "      <td>ROAD</td>\n",
       "      <td>0.002688</td>\n",
       "      <td>0.002472</td>\n",
       "      <td>WOODLANDS SOUTH</td>\n",
       "      <td>WOODLANDS</td>\n",
       "      <td>NORTH REGION</td>\n",
       "      <td>32</td>\n",
       "      <td>30.168782</td>\n",
       "      <td>...</td>\n",
       "      <td>-</td>\n",
       "      <td>-</td>\n",
       "      <td>-</td>\n",
       "      <td>-</td>\n",
       "      <td>-</td>\n",
       "      <td>-</td>\n",
       "      <td>-</td>\n",
       "      <td>-</td>\n",
       "      <td>-</td>\n",
       "      <td>-</td>\n",
       "    </tr>\n",
       "    <tr>\n",
       "      <th>4</th>\n",
       "      <td>1.303530</td>\n",
       "      <td>103.820861</td>\n",
       "      <td>CIVIC &amp; COMMUNITY INSTITUTION</td>\n",
       "      <td>0.011124</td>\n",
       "      <td>0.004127</td>\n",
       "      <td>RIDOUT</td>\n",
       "      <td>TANGLIN</td>\n",
       "      <td>CENTRAL REGION</td>\n",
       "      <td>17</td>\n",
       "      <td>30.168782</td>\n",
       "      <td>...</td>\n",
       "      <td>63</td>\n",
       "      <td>1</td>\n",
       "      <td>0</td>\n",
       "      <td>0</td>\n",
       "      <td>0</td>\n",
       "      <td>0</td>\n",
       "      <td>0</td>\n",
       "      <td>0.09017470784</td>\n",
       "      <td>0.2076336658</td>\n",
       "      <td>0.3255961435</td>\n",
       "    </tr>\n",
       "  </tbody>\n",
       "</table>\n",
       "<p>5 rows × 59 columns</p>\n",
       "</div>"
      ],
      "text/plain": [
       "   latitude   longitude                 land_use_label  distance_to_waterbody  \\\n",
       "0  1.327345  103.776261                           ROAD               0.005491   \n",
       "1  1.362310  103.885041                    RESIDENTIAL               0.002163   \n",
       "2  1.304792  103.740678                     BUSINESS 2               0.001660   \n",
       "3  1.432131  103.793028                           ROAD               0.002688   \n",
       "4  1.303530  103.820861  CIVIC & COMMUNITY INSTITUTION               0.011124   \n",
       "\n",
       "   distance_to_open_space           subzone planning_area             region  \\\n",
       "0                0.000305      HOLLAND ROAD   BUKIT TIMAH     CENTRAL REGION   \n",
       "1                0.002288             KOVAN       HOUGANG  NORTH-EAST REGION   \n",
       "2                0.001437  PENJURU CRESCENT   JURONG EAST        WEST REGION   \n",
       "3                0.002472   WOODLANDS SOUTH     WOODLANDS       NORTH REGION   \n",
       "4                0.004127            RIDOUT       TANGLIN     CENTRAL REGION   \n",
       "\n",
       "   elevation  temp_2024_04_07_min  ...  built-up  bare / sparse vegetation  \\\n",
       "0         34            28.880736  ...       128                         1   \n",
       "1         14            33.603571  ...       183                         1   \n",
       "2         10            28.880736  ...       251                         8   \n",
       "3         32            30.168782  ...         -                         -   \n",
       "4         17            30.168782  ...        63                         1   \n",
       "\n",
       "   snow and ice  permanent water bodies  herbaceous wetland  mangroves  \\\n",
       "0             0                       1                   0          0   \n",
       "1             0                       0                   0          0   \n",
       "2             0                      33                   0          0   \n",
       "3             -                       -                   -          -   \n",
       "4             0                       0                   0          0   \n",
       "\n",
       "   moss and lichen       min_ndvi      mean_ndvi      max_ndvi  \n",
       "0                0   0.1176063463   0.2107233339  0.3355351585  \n",
       "1                0  0.06873453002   0.1237388913  0.1772913102  \n",
       "2                0  0.03399855502  0.07334574643  0.1149060753  \n",
       "3                -              -              -             -  \n",
       "4                0  0.09017470784   0.2076336658  0.3255961435  \n",
       "\n",
       "[5 rows x 59 columns]"
      ]
     },
     "execution_count": 19,
     "metadata": {},
     "output_type": "execute_result"
    }
   ],
   "source": [
    "X_train.head()"
   ]
  },
  {
   "cell_type": "code",
   "execution_count": 20,
   "metadata": {},
   "outputs": [],
   "source": [
    "# Combine X and y to make sure that the oversampling is done correctly\n",
    "X_train = pd.concat([X_train, y_train], axis=1)\n",
    "X_test = pd.concat([X_test, y_test], axis=1)"
   ]
  },
  {
   "cell_type": "markdown",
   "metadata": {},
   "source": [
    "- Drop subzone and planning area columns\n",
    "- Replace land use label by one hot encoding\n",
    "- Drop temperature data, since they are not independent variables"
   ]
  },
  {
   "cell_type": "code",
   "execution_count": 21,
   "metadata": {},
   "outputs": [
    {
     "data": {
      "text/plain": [
       "Index(['latitude', 'longitude', 'land_use_label', 'distance_to_waterbody',\n",
       "       'distance_to_open_space', 'subzone', 'planning_area', 'region',\n",
       "       'elevation', 'temp_2024_04_07_min', 'temp_2024_04_07_max',\n",
       "       'temp_2024_04_07_median', 'temp_2024_04_08_min', 'temp_2024_04_08_max',\n",
       "       'temp_2024_04_08_median', 'temp_2024_04_09_min', 'temp_2024_04_09_max',\n",
       "       'temp_2024_04_09_median', 'temp_2024_04_10_min', 'temp_2024_04_10_max',\n",
       "       'temp_2024_04_10_median', 'Total_x', 'HDB Total',\n",
       "       'Condominiums & Other Apartments', 'Landed Properties_x',\n",
       "       'Other Dwellings_x', 'Floor_below_60', 'Floor_60-80', 'Floor_80-100',\n",
       "       'Floor_100-120', 'Floor_above_120', 'Below $1,000', '$1,000 - $1,999',\n",
       "       '$2,000 - $2,999', '$3,000 - $3,999', '$4,000 - $4,999',\n",
       "       '$5,000 - $5,999', '$6,000 - $6,999', '$7,000 - $7,999',\n",
       "       '$8,000 - $8,999', '$9,000 - $9,999', '$10,000 - 10,999',\n",
       "       '$11,000 - 11,999', '$12,000 - $14,999', '$15,000 & Over', 'tree cover',\n",
       "       'shrubland', 'grassland', 'cropland', 'built-up',\n",
       "       'bare / sparse vegetation', 'snow and ice', 'permanent water bodies',\n",
       "       'herbaceous wetland', 'mangroves', 'moss and lichen', 'min_ndvi',\n",
       "       'mean_ndvi', 'max_ndvi', 'avg_temp'],\n",
       "      dtype='object')"
      ]
     },
     "execution_count": 21,
     "metadata": {},
     "output_type": "execute_result"
    }
   ],
   "source": [
    "X_train.columns"
   ]
  },
  {
   "cell_type": "code",
   "execution_count": 22,
   "metadata": {},
   "outputs": [],
   "source": [
    "columns_to_drop = ['land_use_label', 'subzone', 'planning_area', 'region',\n",
    "       'temp_2024_04_07_min', 'temp_2024_04_07_max',\n",
    "       'temp_2024_04_07_median', 'temp_2024_04_08_min', 'temp_2024_04_08_max',\n",
    "       'temp_2024_04_08_median', 'temp_2024_04_09_min', 'temp_2024_04_09_max',\n",
    "       'temp_2024_04_09_median', 'temp_2024_04_10_min', 'temp_2024_04_10_max',\n",
    "       'temp_2024_04_10_median']\n",
    "\n",
    "X_train = X_train.drop(columns=columns_to_drop)\n",
    "X_test = X_test.drop(columns=columns_to_drop)"
   ]
  },
  {
   "cell_type": "code",
   "execution_count": 23,
   "metadata": {},
   "outputs": [],
   "source": [
    "# Remove rows where min_ndvi values is -\n",
    "X_train = X_train[X_train['min_ndvi'] != '-']\n",
    "X_test = X_test[X_test['min_ndvi'] != '-']"
   ]
  },
  {
   "cell_type": "code",
   "execution_count": 24,
   "metadata": {},
   "outputs": [],
   "source": [
    "# Split X and y\n",
    "y_train = X_train['avg_temp']\n",
    "X_train = X_train.drop(columns=['avg_temp'])\n",
    "\n",
    "y_test = X_test['avg_temp']\n",
    "X_test = X_test.drop(columns=['avg_temp'])"
   ]
  },
  {
   "cell_type": "markdown",
   "metadata": {},
   "source": [
    "## Model Training"
   ]
  },
  {
   "cell_type": "code",
   "execution_count": 25,
   "metadata": {},
   "outputs": [
    {
     "data": {
      "text/html": [
       "<style>#sk-container-id-5 {color: black;background-color: white;}#sk-container-id-5 pre{padding: 0;}#sk-container-id-5 div.sk-toggleable {background-color: white;}#sk-container-id-5 label.sk-toggleable__label {cursor: pointer;display: block;width: 100%;margin-bottom: 0;padding: 0.3em;box-sizing: border-box;text-align: center;}#sk-container-id-5 label.sk-toggleable__label-arrow:before {content: \"▸\";float: left;margin-right: 0.25em;color: #696969;}#sk-container-id-5 label.sk-toggleable__label-arrow:hover:before {color: black;}#sk-container-id-5 div.sk-estimator:hover label.sk-toggleable__label-arrow:before {color: black;}#sk-container-id-5 div.sk-toggleable__content {max-height: 0;max-width: 0;overflow: hidden;text-align: left;background-color: #f0f8ff;}#sk-container-id-5 div.sk-toggleable__content pre {margin: 0.2em;color: black;border-radius: 0.25em;background-color: #f0f8ff;}#sk-container-id-5 input.sk-toggleable__control:checked~div.sk-toggleable__content {max-height: 200px;max-width: 100%;overflow: auto;}#sk-container-id-5 input.sk-toggleable__control:checked~label.sk-toggleable__label-arrow:before {content: \"▾\";}#sk-container-id-5 div.sk-estimator input.sk-toggleable__control:checked~label.sk-toggleable__label {background-color: #d4ebff;}#sk-container-id-5 div.sk-label input.sk-toggleable__control:checked~label.sk-toggleable__label {background-color: #d4ebff;}#sk-container-id-5 input.sk-hidden--visually {border: 0;clip: rect(1px 1px 1px 1px);clip: rect(1px, 1px, 1px, 1px);height: 1px;margin: -1px;overflow: hidden;padding: 0;position: absolute;width: 1px;}#sk-container-id-5 div.sk-estimator {font-family: monospace;background-color: #f0f8ff;border: 1px dotted black;border-radius: 0.25em;box-sizing: border-box;margin-bottom: 0.5em;}#sk-container-id-5 div.sk-estimator:hover {background-color: #d4ebff;}#sk-container-id-5 div.sk-parallel-item::after {content: \"\";width: 100%;border-bottom: 1px solid gray;flex-grow: 1;}#sk-container-id-5 div.sk-label:hover label.sk-toggleable__label {background-color: #d4ebff;}#sk-container-id-5 div.sk-serial::before {content: \"\";position: absolute;border-left: 1px solid gray;box-sizing: border-box;top: 0;bottom: 0;left: 50%;z-index: 0;}#sk-container-id-5 div.sk-serial {display: flex;flex-direction: column;align-items: center;background-color: white;padding-right: 0.2em;padding-left: 0.2em;position: relative;}#sk-container-id-5 div.sk-item {position: relative;z-index: 1;}#sk-container-id-5 div.sk-parallel {display: flex;align-items: stretch;justify-content: center;background-color: white;position: relative;}#sk-container-id-5 div.sk-item::before, #sk-container-id-5 div.sk-parallel-item::before {content: \"\";position: absolute;border-left: 1px solid gray;box-sizing: border-box;top: 0;bottom: 0;left: 50%;z-index: -1;}#sk-container-id-5 div.sk-parallel-item {display: flex;flex-direction: column;z-index: 1;position: relative;background-color: white;}#sk-container-id-5 div.sk-parallel-item:first-child::after {align-self: flex-end;width: 50%;}#sk-container-id-5 div.sk-parallel-item:last-child::after {align-self: flex-start;width: 50%;}#sk-container-id-5 div.sk-parallel-item:only-child::after {width: 0;}#sk-container-id-5 div.sk-dashed-wrapped {border: 1px dashed gray;margin: 0 0.4em 0.5em 0.4em;box-sizing: border-box;padding-bottom: 0.4em;background-color: white;}#sk-container-id-5 div.sk-label label {font-family: monospace;font-weight: bold;display: inline-block;line-height: 1.2em;}#sk-container-id-5 div.sk-label-container {text-align: center;}#sk-container-id-5 div.sk-container {/* jupyter's `normalize.less` sets `[hidden] { display: none; }` but bootstrap.min.css set `[hidden] { display: none !important; }` so we also need the `!important` here to be able to override the default hidden behavior on the sphinx rendered scikit-learn.org. See: https://github.com/scikit-learn/scikit-learn/issues/21755 */display: inline-block !important;position: relative;}#sk-container-id-5 div.sk-text-repr-fallback {display: none;}</style><div id=\"sk-container-id-5\" class=\"sk-top-container\"><div class=\"sk-text-repr-fallback\"><pre>Pipeline(steps=[(&#x27;regressor&#x27;, RandomForestRegressor())])</pre><b>In a Jupyter environment, please rerun this cell to show the HTML representation or trust the notebook. <br />On GitHub, the HTML representation is unable to render, please try loading this page with nbviewer.org.</b></div><div class=\"sk-container\" hidden><div class=\"sk-item sk-dashed-wrapped\"><div class=\"sk-label-container\"><div class=\"sk-label sk-toggleable\"><input class=\"sk-toggleable__control sk-hidden--visually\" id=\"sk-estimator-id-9\" type=\"checkbox\" ><label for=\"sk-estimator-id-9\" class=\"sk-toggleable__label sk-toggleable__label-arrow\">Pipeline</label><div class=\"sk-toggleable__content\"><pre>Pipeline(steps=[(&#x27;regressor&#x27;, RandomForestRegressor())])</pre></div></div></div><div class=\"sk-serial\"><div class=\"sk-item\"><div class=\"sk-estimator sk-toggleable\"><input class=\"sk-toggleable__control sk-hidden--visually\" id=\"sk-estimator-id-10\" type=\"checkbox\" ><label for=\"sk-estimator-id-10\" class=\"sk-toggleable__label sk-toggleable__label-arrow\">RandomForestRegressor</label><div class=\"sk-toggleable__content\"><pre>RandomForestRegressor()</pre></div></div></div></div></div></div></div>"
      ],
      "text/plain": [
       "Pipeline(steps=[('regressor', RandomForestRegressor())])"
      ]
     },
     "execution_count": 25,
     "metadata": {},
     "output_type": "execute_result"
    }
   ],
   "source": [
    "regressor = Pipeline([\n",
    "    ('regressor', RandomForestRegressor())\n",
    "])\n",
    "\n",
    "regressor.fit(X_train, y_train)"
   ]
  },
  {
   "cell_type": "code",
   "execution_count": 26,
   "metadata": {},
   "outputs": [
    {
     "name": "stdout",
     "output_type": "stream",
     "text": [
      "RMSE: 0.8359080551554389\n",
      "R2: 0.4616594552104841\n"
     ]
    }
   ],
   "source": [
    "# Predict and evaluate RMSE and R2 on test set\n",
    "y_pred = regressor.predict(X_test)\n",
    "\n",
    "# Calculate the RMSE\n",
    "rmse = np.sqrt(np.mean((y_test - y_pred)**2))\n",
    "print(f\"RMSE: {rmse}\")\n",
    "\n",
    "# Calculate the R2\n",
    "r2 = r2_score(y_test, y_pred)\n",
    "print(f\"R2: {r2}\")"
   ]
  },
  {
   "cell_type": "code",
   "execution_count": null,
   "metadata": {},
   "outputs": [],
   "source": []
  }
 ],
 "metadata": {
  "kernelspec": {
   "display_name": "Python 3",
   "language": "python",
   "name": "python3"
  },
  "language_info": {
   "codemirror_mode": {
    "name": "ipython",
    "version": 3
   },
   "file_extension": ".py",
   "mimetype": "text/x-python",
   "name": "python",
   "nbconvert_exporter": "python",
   "pygments_lexer": "ipython3",
   "version": "3.9.9"
  }
 },
 "nbformat": 4,
 "nbformat_minor": 2
}
